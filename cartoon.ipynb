{
 "cells": [
  {
   "cell_type": "code",
   "execution_count": 2,
   "metadata": {},
   "outputs": [],
   "source": [
    "import cv2"
   ]
  },
  {
   "cell_type": "code",
   "execution_count": 3,
   "metadata": {},
   "outputs": [],
   "source": [
    "image = cv2.imread('im1.png')\n"
   ]
  },
  {
   "cell_type": "code",
   "execution_count": 37,
   "metadata": {},
   "outputs": [],
   "source": [
    "sigma = 48\n",
    "gray_image = cv2.cvtColor(image, cv2.COLOR_BGR2GRAY)\n",
    "median = cv2.medianBlur(gray_image, 9)\n",
    "dst = cv2.Laplacian(median, cv2.CV_8U, ksize=5)\n",
    "_, bina = cv2.threshold(dst, 128, 255, cv2.THRESH_BINARY_INV)\n",
    "# filt = cv2.bilateralFilter(image, 9, sigma, sigma)\n",
    "# cartoon_image = cv2.bitwise_and(filt, filt, mask=bina)\n",
    "# img = image+bina\n",
    "# cv2.imshow('image', image)\n",
    "# cv2.waitKey(0)\n",
    "\n",
    "# cv2.imshow('gray', gray_image)\n",
    "# cv2.waitKey(0)\n",
    "  \n",
    "# cv2.imshow('median', median)\n",
    "# cv2.waitKey(0)\n",
    "for sigma in range(10,100,5):\n",
    "    filt = cv2.bilateralFilter(image, 9, sigma, sigma)\n",
    "    cartoon_image = cv2.bitwise_and(filt, filt, mask=bina)\n",
    "    cv2.imshow('fil', filt)\n",
    "    cv2.waitKey(0)\n",
    "\n",
    "    # cv2.imshow('fil', cartoon_image)\n",
    "    # cv2.waitKey(0)\n",
    "\n",
    "# closing all open windows\n",
    "cv2.destroyAllWindows()"
   ]
  },
  {
   "cell_type": "code",
   "execution_count": null,
   "metadata": {},
   "outputs": [],
   "source": []
  }
 ],
 "metadata": {
  "kernelspec": {
   "display_name": "Python 3",
   "language": "python",
   "name": "python3"
  },
  "language_info": {
   "codemirror_mode": {
    "name": "ipython",
    "version": 3
   },
   "file_extension": ".py",
   "mimetype": "text/x-python",
   "name": "python",
   "nbconvert_exporter": "python",
   "pygments_lexer": "ipython3",
   "version": "3.11.2"
  }
 },
 "nbformat": 4,
 "nbformat_minor": 2
}
